{
 "cells": [
  {
   "cell_type": "code",
   "execution_count": 13,
   "id": "113de139",
   "metadata": {},
   "outputs": [],
   "source": [
    "from pysimlink import Model\n",
    "import random"
   ]
  },
  {
   "cell_type": "code",
   "execution_count": 6,
   "id": "46a9ba18",
   "metadata": {},
   "outputs": [],
   "source": [
    "model = Model(\"feedbacksystem\", \"22a_feedbacksystem.zip\")\n",
    "model.reset()"
   ]
  },
  {
   "cell_type": "code",
   "execution_count": 12,
   "id": "34eb465c",
   "metadata": {},
   "outputs": [
    {
     "name": "stdout",
     "output_type": "stream",
     "text": [
      "ModelInfo(model_name='feedbacksystem', model_params=[], block_params=[BlockParam(block_name='feedbacksystem/A', block_param='Gain', data_type=float64 (double) dims: [4, 4] order: rtwCAPI_Orientation.col_major), BlockParam(block_name='feedbacksystem/B', block_param='Gain', data_type=float64 (double) dims: [4, 2] order: rtwCAPI_Orientation.col_major), BlockParam(block_name='feedbacksystem/C', block_param='Gain', data_type=float64 (double) dims: [2, 4] order: rtwCAPI_Orientation.col_major), BlockParam(block_name='feedbacksystem/K', block_param='Gain', data_type=float64 (double) dims: [2, 4] order: rtwCAPI_Orientation.col_major), BlockParam(block_name='feedbacksystem/Integrator', block_param='InitialCondition', data_type=float64 (double) dims: [1, 1] order: rtwCAPI_Orientation.scalar), BlockParam(block_name='feedbacksystem/u', block_param='Time', data_type=float64 (double) dims: [2, 1] order: rtwCAPI_Orientation.vector), BlockParam(block_name='feedbacksystem/u', block_param='Before', data_type=float64 (double) dims: [1, 1] order: rtwCAPI_Orientation.scalar), BlockParam(block_name='feedbacksystem/u', block_param='After', data_type=float64 (double) dims: [1, 1] order: rtwCAPI_Orientation.scalar)], signals=[Signal(block_name='feedbacksystem/C', signal_name='', data_type=float64 (double) dims: [2, 1] order: rtwCAPI_Orientation.col_major), Signal(block_name='feedbacksystem/Sum1', signal_name='', data_type=float64 (double) dims: [4, 1] order: rtwCAPI_Orientation.col_major)])\n"
     ]
    }
   ],
   "source": [
    "for info in model.get_params():\n",
    "    print(info)"
   ]
  },
  {
   "cell_type": "code",
   "execution_count": 16,
   "id": "b8237dd3",
   "metadata": {},
   "outputs": [],
   "source": [
    "def get_model_param():\n",
    "    params = model.get_params()\n",
    "    num_params = 0\n",
    "    for mdl in params:\n",
    "        num_params += len(mdl.model_params)\n",
    "    if num_params == 0:\n",
    "        return None\n",
    "        raise ValueError(\"cannot find model parameters to extract\")\n",
    "    while True:\n",
    "        model_sel = random.choice(params)\n",
    "        if len(model_sel.model_params) == 0: continue\n",
    "        param = random.choice(model_sel.model_params)\n",
    "        if param is not None: break\n",
    "    print(\"here\", param)\n",
    "        \n",
    "        "
   ]
  },
  {
   "cell_type": "code",
   "execution_count": 21,
   "id": "3ec03a28",
   "metadata": {},
   "outputs": [],
   "source": [
    "def get_signal():\n",
    "    params = model.get_params()\n",
    "    num_params = 0\n",
    "    for mdl in params:\n",
    "        num_params += len(mdl.signals)\n",
    "    if num_params == 0:\n",
    "        return None\n",
    "    while True:\n",
    "        model_sel = random.choice(params)\n",
    "        if len(model_sel.signals) == 0: continue\n",
    "        param = random.choice(model_sel.signals)\n",
    "        if param is not None: break\n",
    "    i = random.randrange(len(model))\n",
    "    model.reset()\n",
    "    model.step(i)\n",
    "    return {\n",
    "        \"path\": param.block_name,\n",
    "        \"name\": param.signal_name,\n",
    "        \"iteration\": i,\n",
    "        \"value\": model.get_signal(param.block_name, model_sel.model_name, param.signal_name),\n",
    "        \"model_name\": model_sel.model_name\n",
    "    }\n",
    "        "
   ]
  },
  {
   "cell_type": "code",
   "execution_count": null,
   "id": "dffff47a",
   "metadata": {},
   "outputs": [],
   "source": [
    "def get_block_param():\n",
    "    params = model.get_params()\n",
    "    num_params = 0\n",
    "    for mdl in params:\n",
    "        num_params += len(mdl.block_params)\n",
    "    if num_params == 0:\n",
    "        return None\n",
    "    while True:\n",
    "        model_sel = random.choice(params)\n",
    "        if len(model_sel.block_params) == 0: continue\n",
    "        param = random.choice(model_sel.block_params)\n",
    "        if param is not None: break\n",
    "    i = random.randrange(len(model))\n",
    "    model.reset()\n",
    "    model.step(i)\n",
    "    return {\n",
    "        \"path\": param.block_name,\n",
    "        \"name\": param.signal_name,\n",
    "        \"iteration\": i,\n",
    "        \"value\": model.get_signal(param.block_name, model_sel.model_name, param.signal_name),\n",
    "        \"model_name\": model_sel.model_name\n",
    "    }\n",
    "        "
   ]
  },
  {
   "cell_type": "code",
   "execution_count": 22,
   "id": "5351b024",
   "metadata": {},
   "outputs": [
    {
     "data": {
      "text/plain": [
       "{'path': 'feedbacksystem/Sum1',\n",
       " 'name': '',\n",
       " 'iteration': 49,\n",
       " 'value': array([[-2.24347196e-05],\n",
       "        [ 7.17031407e-06],\n",
       "        [-9.28842899e-06],\n",
       "        [-7.81215455e-05]]),\n",
       " 'model_name': 'feedbacksystem'}"
      ]
     },
     "execution_count": 22,
     "metadata": {},
     "output_type": "execute_result"
    }
   ],
   "source": [
    "get_signal()"
   ]
  },
  {
   "cell_type": "code",
   "execution_count": 18,
   "id": "9c17625f",
   "metadata": {},
   "outputs": [],
   "source": [
    "data = {\n",
    "    'model_length': len(model),\n",
    "    'tFinal': model.tFinal,\n",
    "    'step_size': model.step_size,\n",
    "    'model_param': get_model_param(),\n",
    "    \"signal\": get_signal(),\n",
    "    \"block_param\": get_block_param()\n",
    "}"
   ]
  }
 ],
 "metadata": {
  "kernelspec": {
   "display_name": "Python 3 (ipykernel)",
   "language": "python",
   "name": "python3"
  },
  "language_info": {
   "codemirror_mode": {
    "name": "ipython",
    "version": 3
   },
   "file_extension": ".py",
   "mimetype": "text/x-python",
   "name": "python",
   "nbconvert_exporter": "python",
   "pygments_lexer": "ipython3",
   "version": "3.9.7"
  }
 },
 "nbformat": 4,
 "nbformat_minor": 5
}
